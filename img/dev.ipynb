{
 "cells": [
  {
   "cell_type": "code",
   "execution_count": 10,
   "metadata": {},
   "outputs": [
    {
     "name": "stdout",
     "output_type": "stream",
     "text": [
      "VCALENDAR({}, VEVENT({'DTSTART': '20181119T123400', 'DTEND': '20181119T141500', 'SUMMARY': 'Some event...'}))\n"
     ]
    }
   ],
   "source": [
    "from icalendar import Calendar, Event, vText\n",
    "\n",
    "cal = Calendar()\n",
    "\n",
    "event = Event()\n",
    "# event['uid'] = '42'\n",
    "event['dtstart'] = '20171201T170000'\n",
    "event['dtend'] = '20171201T190000'\n",
    "event['summary'] = 'Some event...'\n",
    "# event['location'] = vText('Moscow, Russia')\n",
    "\n",
    "cal.add_component(event)\n",
    "print(cal)\n",
    "\n",
    "import os\n",
    "f = open('event.ics', 'wb')\n",
    "f.write(cal.to_ical())\n",
    "f.close()"
   ]
  },
  {
   "cell_type": "code",
   "execution_count": 2,
   "metadata": {},
   "outputs": [
    {
     "data": {
      "text/plain": [
       "vText('b'Odense\\\\, Denmark'')"
      ]
     },
     "execution_count": 2,
     "metadata": {},
     "output_type": "execute_result"
    }
   ],
   "source": [
    "vText ( 'Odense, Denmark' )"
   ]
  },
  {
   "cell_type": "code",
   "execution_count": null,
   "metadata": {
    "collapsed": true
   },
   "outputs": [],
   "source": []
  },
  {
   "cell_type": "code",
   "execution_count": null,
   "metadata": {
    "collapsed": true
   },
   "outputs": [],
   "source": []
  },
  {
   "cell_type": "code",
   "execution_count": 1,
   "metadata": {
    "collapsed": true
   },
   "outputs": [],
   "source": [
    "text = \"\"\"Лекция «Что такое сверхпроводимость?»\n",
    "1 декабря в 17:00 в Московском корпусе МФТИ состоится третья встреча из цикла лекций по физике. Тема лекции: «Что такое сверхпроводимость?» Её проведёт Леонид Моргун, преподаватель кафедры общей физики.\n",
    "https://mipt.ru/news/lektsiya_chto_takoe_sverkhprovodimost_\n",
    "Московский корпус МФТИ\n",
    "20171201T170000\n",
    "20171201T190000\"\"\"\n",
    "\n",
    "title, description, url, location, date_start, date_end = text.split('\\n')"
   ]
  },
  {
   "cell_type": "code",
   "execution_count": 9,
   "metadata": {
    "collapsed": true
   },
   "outputs": [],
   "source": [
    "from icalendar import Alarm\n",
    "\n",
    "alarm = Alarm()\n",
    "alarm['description'] = 'Event reminder'\n",
    "alarm['trigger'] = '-PT15M'\n",
    "alarm['action'] = 'DISPLAY'"
   ]
  },
  {
   "cell_type": "code",
   "execution_count": 10,
   "metadata": {},
   "outputs": [
    {
     "name": "stdout",
     "output_type": "stream",
     "text": [
      "VCALENDAR({}, VEVENT({'SUMMARY': 'Лекция «Что такое сверхпроводимость?»', 'DESCRIPTION': '1 декабря в 17:00 в Московском корпусе МФТИ состоится третья встреча из цикла лекций по физике. Тема лекции: «Что такое сверхпроводимость?» Её проведёт Леонид Моргун, преподаватель кафедры общей физики.', 'URL': 'https://mipt.ru/news/lektsiya_chto_takoe_sverkhprovodimost_', 'LOCATION': vText('b'\\xd0\\x9c\\xd0\\xbe\\xd1\\x81\\xd0\\xba\\xd0\\xbe\\xd0\\xb2\\xd1\\x81\\xd0\\xba\\xd0\\xb8\\xd0\\xb9 \\xd0\\xba\\xd0\\xbe\\xd1\\x80\\xd0\\xbf\\xd1\\x83\\xd1\\x81 \\xd0\\x9c\\xd0\\xa4\\xd0\\xa2\\xd0\\x98''), 'DTSTART': '20171201T170000', 'DTEND': '20171201T190000'}, VALARM({'DESCRIPTION': 'Event reminder', 'TRIGGER': '-PT15M', 'ACTION': 'DISPLAY'})))\n"
     ]
    }
   ],
   "source": [
    "from icalendar import Calendar, Event, vText\n",
    "\n",
    "event = Event()\n",
    "event['summary'] = title\n",
    "event['description'] = description\n",
    "event['url'] = url\n",
    "event['location'] = vText(location)\n",
    "event['dtstart'] = date_start\n",
    "event['dtend'] = date_end\n",
    "\n",
    "event.add_component(alarm)\n",
    "\n",
    "cal = Calendar()\n",
    "cal.add_component(event)\n",
    "print(cal)\n",
    "\n",
    "import os\n",
    "f = open('sverkhprovodimost.ics', 'wb')\n",
    "f.write(cal.to_ical())\n",
    "f.close()"
   ]
  },
  {
   "cell_type": "code",
   "execution_count": null,
   "metadata": {
    "collapsed": true
   },
   "outputs": [],
   "source": [
    "BEGIN:VALARM\n",
    "X-WR-ALARMUID:4E2FDA76-602A-4900-A3E2-16BECF31F561\n",
    "UID:4E2FDA76-602A-4900-A3E2-16BECF31F561\n",
    "DESCRIPTION:Event reminder\n",
    "ACKNOWLEDGED:20171117T071759Z\n",
    "TRIGGER:-PT15M\n",
    "ACTION:DISPLAY\n",
    "END:VALARM"
   ]
  },
  {
   "cell_type": "code",
   "execution_count": null,
   "metadata": {
    "collapsed": true
   },
   "outputs": [],
   "source": []
  }
 ],
 "metadata": {
  "kernelspec": {
   "display_name": "Python 3",
   "language": "python",
   "name": "python3"
  },
  "language_info": {
   "codemirror_mode": {
    "name": "ipython",
    "version": 3
   },
   "file_extension": ".py",
   "mimetype": "text/x-python",
   "name": "python",
   "nbconvert_exporter": "python",
   "pygments_lexer": "ipython3",
   "version": "3.6.2"
  }
 },
 "nbformat": 4,
 "nbformat_minor": 1
}
